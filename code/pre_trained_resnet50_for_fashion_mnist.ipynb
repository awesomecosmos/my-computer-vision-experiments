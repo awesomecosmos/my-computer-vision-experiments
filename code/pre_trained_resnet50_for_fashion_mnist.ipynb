{
 "cells": [
  {
   "cell_type": "markdown",
   "metadata": {},
   "source": [
    "# Using Pre-Trained Models to Classify Fashion-MNIST\n",
    "\n",
    "In this notebook, I will use the weights of pre-trained models, specifically ResNet50, to classify the Fashion-MNIST dataset."
   ]
  },
  {
   "cell_type": "code",
   "execution_count": null,
   "metadata": {},
   "outputs": [],
   "source": [
    "from torchvision.models import resnet50, ResNet50_Weights\n",
    "\n",
    "# Using pretrained weights:\n",
    "resnet50(weights=ResNet50_Weights.IMAGENET1K_V1)\n",
    "resnet50(weights=\"IMAGENET1K_V1\")\n",
    "resnet50(pretrained=True)  # deprecated\n",
    "resnet50(True)  # deprecated"
   ]
  }
 ],
 "metadata": {
  "language_info": {
   "name": "python"
  }
 },
 "nbformat": 4,
 "nbformat_minor": 2
}
