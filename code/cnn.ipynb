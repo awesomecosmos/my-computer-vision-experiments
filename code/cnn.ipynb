{
 "cells": [
  {
   "cell_type": "markdown",
   "metadata": {},
   "source": [
    "# CNN-Experiment\n",
    "\n",
    "The goal of this experiment is for me to follow tutorials to learn about Convolution Neural Networks (CNNs) using the MNIST dataset with the PyTorch framework.\n",
    "\n",
    "I'm mainly following this tutorial: https://medium.com/@nutanbhogendrasharma/pytorch-convolutional-neural-network-with-mnist-dataset-4e8a4265e118, and annotating this notebook with my thoughts/learnings."
   ]
  },
  {
   "cell_type": "code",
   "execution_count": 16,
   "metadata": {},
   "outputs": [],
   "source": [
    "import torch\n",
    "from torchvision import datasets\n",
    "from torchvision.transforms import ToTensor\n",
    "import matplotlib.pyplot as plt\n",
    "from torch.utils.data import DataLoader\n",
    "import torch.nn as nn"
   ]
  },
  {
   "cell_type": "code",
   "execution_count": 3,
   "metadata": {},
   "outputs": [
    {
     "data": {
      "text/plain": [
       "device(type='cpu')"
      ]
     },
     "execution_count": 3,
     "metadata": {},
     "output_type": "execute_result"
    }
   ],
   "source": [
    "# Device configuration\n",
    "device = torch.device('cuda' if torch.cuda.is_available() else 'cpu')\n",
    "device"
   ]
  },
  {
   "cell_type": "markdown",
   "metadata": {},
   "source": [
    "It seems my machine (MacBook Pro M3) is using the CPU (which is weird, I thought it would've used the GPU and like 40-core memory or whatever advanced specs it has, but ok?). At least it works!"
   ]
  },
  {
   "cell_type": "markdown",
   "metadata": {},
   "source": [
    "Now I need to import the dataset. It's a large image dataset, and in `experiments.ipynb`, I used Huggingface to download the dataset because I was getting all sorts of weird SSL issues. The tutorial I'm following here is using the following method, which seems to work fine!"
   ]
  },
  {
   "cell_type": "code",
   "execution_count": 5,
   "metadata": {},
   "outputs": [
    {
     "name": "stdout",
     "output_type": "stream",
     "text": [
      "Downloading http://yann.lecun.com/exdb/mnist/train-images-idx3-ubyte.gz\n",
      "Failed to download (trying next):\n",
      "HTTP Error 403: Forbidden\n",
      "\n",
      "Downloading https://ossci-datasets.s3.amazonaws.com/mnist/train-images-idx3-ubyte.gz\n",
      "Downloading https://ossci-datasets.s3.amazonaws.com/mnist/train-images-idx3-ubyte.gz to data/MNIST/raw/train-images-idx3-ubyte.gz\n"
     ]
    },
    {
     "name": "stderr",
     "output_type": "stream",
     "text": [
      "100%|██████████| 9912422/9912422 [00:05<00:00, 1896721.19it/s]\n"
     ]
    },
    {
     "name": "stdout",
     "output_type": "stream",
     "text": [
      "Extracting data/MNIST/raw/train-images-idx3-ubyte.gz to data/MNIST/raw\n",
      "\n",
      "Downloading http://yann.lecun.com/exdb/mnist/train-labels-idx1-ubyte.gz\n",
      "Failed to download (trying next):\n",
      "HTTP Error 403: Forbidden\n",
      "\n",
      "Downloading https://ossci-datasets.s3.amazonaws.com/mnist/train-labels-idx1-ubyte.gz\n",
      "Downloading https://ossci-datasets.s3.amazonaws.com/mnist/train-labels-idx1-ubyte.gz to data/MNIST/raw/train-labels-idx1-ubyte.gz\n"
     ]
    },
    {
     "name": "stderr",
     "output_type": "stream",
     "text": [
      "100%|██████████| 28881/28881 [00:00<00:00, 1248911.71it/s]\n"
     ]
    },
    {
     "name": "stdout",
     "output_type": "stream",
     "text": [
      "Extracting data/MNIST/raw/train-labels-idx1-ubyte.gz to data/MNIST/raw\n",
      "\n",
      "Downloading http://yann.lecun.com/exdb/mnist/t10k-images-idx3-ubyte.gz\n",
      "Failed to download (trying next):\n",
      "HTTP Error 403: Forbidden\n",
      "\n",
      "Downloading https://ossci-datasets.s3.amazonaws.com/mnist/t10k-images-idx3-ubyte.gz\n",
      "Downloading https://ossci-datasets.s3.amazonaws.com/mnist/t10k-images-idx3-ubyte.gz to data/MNIST/raw/t10k-images-idx3-ubyte.gz\n"
     ]
    },
    {
     "name": "stderr",
     "output_type": "stream",
     "text": [
      "100%|██████████| 1648877/1648877 [00:00<00:00, 3706331.03it/s]\n"
     ]
    },
    {
     "name": "stdout",
     "output_type": "stream",
     "text": [
      "Extracting data/MNIST/raw/t10k-images-idx3-ubyte.gz to data/MNIST/raw\n",
      "\n",
      "Downloading http://yann.lecun.com/exdb/mnist/t10k-labels-idx1-ubyte.gz\n",
      "Failed to download (trying next):\n",
      "HTTP Error 403: Forbidden\n",
      "\n",
      "Downloading https://ossci-datasets.s3.amazonaws.com/mnist/t10k-labels-idx1-ubyte.gz\n",
      "Downloading https://ossci-datasets.s3.amazonaws.com/mnist/t10k-labels-idx1-ubyte.gz to data/MNIST/raw/t10k-labels-idx1-ubyte.gz\n"
     ]
    },
    {
     "name": "stderr",
     "output_type": "stream",
     "text": [
      "100%|██████████| 4542/4542 [00:00<00:00, 11160239.47it/s]"
     ]
    },
    {
     "name": "stdout",
     "output_type": "stream",
     "text": [
      "Extracting data/MNIST/raw/t10k-labels-idx1-ubyte.gz to data/MNIST/raw\n",
      "\n"
     ]
    },
    {
     "name": "stderr",
     "output_type": "stream",
     "text": [
      "\n"
     ]
    }
   ],
   "source": [
    "# getting training and testing datasets\n",
    "\n",
    "train_data = datasets.MNIST(\n",
    "    root = 'data',\n",
    "    train = True,                         \n",
    "    transform = ToTensor(), \n",
    "    download = True,            \n",
    ")\n",
    "\n",
    "test_data = datasets.MNIST(\n",
    "    root = 'data', \n",
    "    train = False, \n",
    "    transform = ToTensor()\n",
    ")"
   ]
  },
  {
   "cell_type": "markdown",
   "metadata": {},
   "source": [
    "Ok so we got the train and test datasets, and converted them to a Tensor object. Let's check the dimensions."
   ]
  },
  {
   "cell_type": "code",
   "execution_count": 10,
   "metadata": {},
   "outputs": [
    {
     "data": {
      "text/plain": [
       "torch.Size([60000, 28, 28])"
      ]
     },
     "execution_count": 10,
     "metadata": {},
     "output_type": "execute_result"
    }
   ],
   "source": [
    "train_data.data.size()"
   ]
  },
  {
   "cell_type": "code",
   "execution_count": 9,
   "metadata": {},
   "outputs": [
    {
     "data": {
      "text/plain": [
       "torch.Size([10000, 28, 28])"
      ]
     },
     "execution_count": 9,
     "metadata": {},
     "output_type": "execute_result"
    }
   ],
   "source": [
    "test_data.data.size()"
   ]
  },
  {
   "cell_type": "markdown",
   "metadata": {},
   "source": [
    "Plotting one of the images to see what it looks like..."
   ]
  },
  {
   "cell_type": "code",
   "execution_count": 12,
   "metadata": {},
   "outputs": [
    {
     "data": {
      "image/png": "[encoded data removed]",
      "text/plain": [
       "<Figure size 640x480 with 1 Axes>"
      ]
     },
     "metadata": {},
     "output_type": "display_data"
    }
   ],
   "source": [
    "plt.imshow(train_data.data[0], cmap='gray')\n",
    "plt.title('%i' % train_data.targets[0])\n",
    "plt.show()"
   ]
  },
  {
   "cell_type": "code",
   "execution_count": 13,
   "metadata": {},
   "outputs": [
    {
     "data": {
      "image/png": "[encoded data removed]",
      "text/plain": [
       "<Figure size 1000x800 with 25 Axes>"
      ]
     },
     "metadata": {},
     "output_type": "display_data"
    }
   ],
   "source": [
    "figure = plt.figure(figsize=(10, 8))\n",
    "cols, rows = 5, 5\n",
    "for i in range(1, cols * rows + 1):\n",
    "    sample_idx = torch.randint(len(train_data), size=(1,)).item()\n",
    "    img, label = train_data[sample_idx]\n",
    "    figure.add_subplot(rows, cols, i)\n",
    "    plt.title(label)\n",
    "    plt.axis(\"off\")\n",
    "    plt.imshow(img.squeeze(), cmap=\"gray\")\n",
    "plt.show()"
   ]
  },
  {
   "cell_type": "markdown",
   "metadata": {},
   "source": [
    "Now since the dataset is so large, we can create a DataLoader object using `torch.utils.data`. This also effectively creates mini-batches of the data to train the model and allow re-shuffling betweene epochs."
   ]
  },
  {
   "cell_type": "code",
   "execution_count": 15,
   "metadata": {},
   "outputs": [
    {
     "data": {
      "text/plain": [
       "{'train': <torch.utils.data.dataloader.DataLoader at 0x14080ac60>,\n",
       " 'test': <torch.utils.data.dataloader.DataLoader at 0x125033cb0>}"
      ]
     },
     "execution_count": 15,
     "metadata": {},
     "output_type": "execute_result"
    }
   ],
   "source": [
    "loaders = {\n",
    "    'train' : torch.utils.data.DataLoader(train_data, \n",
    "                                          batch_size=100, \n",
    "                                          shuffle=True, \n",
    "                                          num_workers=1),\n",
    "    \n",
    "    'test'  : torch.utils.data.DataLoader(test_data, \n",
    "                                          batch_size=100, \n",
    "                                          shuffle=True, \n",
    "                                          num_workers=1),\n",
    "}\n",
    "loaders"
   ]
  },
  {
   "cell_type": "markdown",
   "metadata": {},
   "source": [
    "The next step is to make the CNN model. I copy-pasted the code as-is in the tutorial, but added comments to check my understanding of these concepts."
   ]
  },
  {
   "cell_type": "code",
   "execution_count": null,
   "metadata": {},
   "outputs": [],
   "source": [
    "class CNN(nn.Module):\n",
    "\n",
    "    def __init__(self):\n",
    "        # so it seems we're inheriting a superclass from torch.nn.module, called CNN\n",
    "        # I tried to hover over the module but did not get anything useful\n",
    "        # anyway, it's not relevant right now, but I should be able to eventually explain \n",
    "        # where/why we are inheriting this superclass\n",
    "        super(CNN, self).__init__()   \n",
    "\n",
    "        # now we're defining a method called conv1\n",
    "        self.conv1 = nn.Sequential( # it seems we're making a Sequential container\n",
    "            # found some info about Sequential: https://pytorch.org/docs/stable/generated/torch.nn.Sequential.html\n",
    "            # it seems to be a container to run the model(s) contained within, sequentially (no surprises there)\n",
    "            nn.Conv2d( # ok so now we're defining a 2D convolution model\n",
    "                # some documentation: https://pytorch.org/docs/stable/generated/torch.nn.Conv2d.html\n",
    "                in_channels=1, # defining the number of channels in the input image\n",
    "                    # follow-up question, what is a channel? is that like RGB?              \n",
    "                out_channels=16, # defining the number of channels produced by the convolution\n",
    "                    # question: why does the number of channels change from 1 to 16?\n",
    "                    # and how do we know that the output number of channels is exactly 16?             \n",
    "                kernel_size=5, # this is the size of the convolving kernel      \n",
    "                    # again, why is it 5 specifically?        \n",
    "                stride=1, # defining the stride of the convolution      \n",
    "                    # from 'Deep Learning with Python' by Chollet, \n",
    "                    # 'stride' is how much the feature map gets downsampled\n",
    "                    # so in this case, the feature map is getting downsampled by a factor of 1             \n",
    "                padding=2, # defining how much padding is added to all 4 sides of the input\n",
    "                    # not entirely sure why we'd want to add padding though?\n",
    "                    # like what does this do? does it help with the stride or something?                   \n",
    "            ),                              \n",
    "            nn.ReLU(), # adding a Rectified Linear Unit layer                     \n",
    "            nn.MaxPool2d(kernel_size=2), # adding a MaxPool layer    \n",
    "        )\n",
    "\n",
    "        # now we're creating our second convolution block method\n",
    "        self.conv2 = nn.Sequential( # sequential method     \n",
    "            nn.Conv2d(16, 32, 5, 1, 2), # another Convolution operation with the same parameters as above\n",
    "                # interesting that this time the keywords are not specified      \n",
    "            nn.ReLU(), # adding a ReLU layer                     \n",
    "            nn.MaxPool2d(2), # adding a final max-pooling layer                \n",
    "        )        \n",
    "\n",
    "        # [original comment, not mine] fully connected layer, output 10 classes\n",
    "        # finally defining a method for the output layer\n",
    "        self.out = nn.Linear(32 * 7 * 7, 10)  # setting the output layer to linear\n",
    "\n",
    "    def forward(self, x):\n",
    "        # defining a function for forward selection\n",
    "        x = self.conv1(x) # now using the previously-defined 1st block of convolution\n",
    "        x = self.conv2(x) # [original comment, not mine] flatten the output of conv2 to (batch_size, 32 * 7 * 7)\n",
    "            # applying the second block of convolution, also previously-defined\n",
    "        x = x.view(x.size(0), -1) # not sure what this is, but eh      \n",
    "        output = self.out(x)\n",
    "        return output, x    # [original comment, not mine] return x for visualization"
   ]
  }
 ],
 "metadata": {
  "kernelspec": {
   "display_name": "Python 3",
   "language": "python",
   "name": "python3"
  },
  "language_info": {
   "codemirror_mode": {
    "name": "ipython",
    "version": 3
   },
   "file_extension": ".py",
   "mimetype": "text/x-python",
   "name": "python",
   "nbconvert_exporter": "python",
   "pygments_lexer": "ipython3",
   "version": "3.12.4"
  }
 },
 "nbformat": 4,
 "nbformat_minor": 2
}
