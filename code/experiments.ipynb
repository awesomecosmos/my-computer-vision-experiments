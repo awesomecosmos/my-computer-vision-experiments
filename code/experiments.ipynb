{
 "cells": [
  {
   "cell_type": "markdown",
   "metadata": {},
   "source": [
    "# MNIST Experiments\n",
    "\n",
    "My goal is to learn about various image processing algorithms and techniques, so I will use the standard MNIST dataset and run various experiments to learn more."
   ]
  },
  {
   "cell_type": "markdown",
   "metadata": {},
   "source": [
    "## Finding #1\n",
    "\n",
    "Accessing the MNIST dataset through libraries like Tensorflow or sklearn gave me SSL issues. I looked on internet forums for help on this issue, but most suggestions were to disable/modify certain settings to bypass the SSL authentication. I did not want to take security risks, so just decided to manually download the dataset and access it locally."
   ]
  },
  {
   "cell_type": "markdown",
   "metadata": {},
   "source": [
    "## Finding #2\n",
    "\n",
    "Upon further research, I was able to use the `datasets` library from [Huggingface](https://huggingface.co/datasets/mnist) to get the dataset. Yay!"
   ]
  },
  {
   "cell_type": "code",
   "execution_count": 2,
   "metadata": {},
   "outputs": [
    {
     "name": "stderr",
     "output_type": "stream",
     "text": [
      "/Library/Frameworks/Python.framework/Versions/3.11/lib/python3.11/site-packages/tqdm/auto.py:21: TqdmWarning: IProgress not found. Please update jupyter and ipywidgets. See https://ipywidgets.readthedocs.io/en/stable/user_install.html\n",
      "  from .autonotebook import tqdm as notebook_tqdm\n",
      "Downloading data: 100%|██████████| 15.6M/15.6M [00:00<00:00, 19.6MB/s]\n",
      "Downloading data: 100%|██████████| 2.60M/2.60M [00:00<00:00, 9.77MB/s]\n",
      "Generating train split: 100%|██████████| 60000/60000 [00:00<00:00, 279712.26 examples/s]\n",
      "Generating test split: 100%|██████████| 10000/10000 [00:00<00:00, 259497.13 examples/s]\n"
     ]
    }
   ],
   "source": [
    "from datasets import load_dataset\n",
    "\n",
    "dataset = load_dataset(\"mnist\", split=\"train[:100]\")"
   ]
  },
  {
   "cell_type": "code",
   "execution_count": 4,
   "metadata": {},
   "outputs": [
    {
     "data": {
      "text/plain": [
       "{'image': <PIL.PngImagePlugin.PngImageFile image mode=L size=28x28>,\n",
       " 'label': 5}"
      ]
     },
     "execution_count": 4,
     "metadata": {},
     "output_type": "execute_result"
    }
   ],
   "source": [
    "dataset[0]"
   ]
  }
 ],
 "metadata": {
  "kernelspec": {
   "display_name": "Python 3",
   "language": "python",
   "name": "python3"
  },
  "language_info": {
   "codemirror_mode": {
    "name": "ipython",
    "version": 3
   },
   "file_extension": ".py",
   "mimetype": "text/x-python",
   "name": "python",
   "nbconvert_exporter": "python",
   "pygments_lexer": "ipython3",
   "version": "3.11.5"
  }
 },
 "nbformat": 4,
 "nbformat_minor": 2
}
