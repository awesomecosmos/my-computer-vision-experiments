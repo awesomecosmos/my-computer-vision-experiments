{
 "cells": [
  {
   "cell_type": "markdown",
   "metadata": {},
   "source": [
    "# MNIST Experiments\n",
    "\n",
    "My goal is to learn about various image processing algorithms and techniques, so I will use the standard MNIST dataset and run various experiments to learn more."
   ]
  },
  {
   "cell_type": "markdown",
   "metadata": {},
   "source": [
    "## Finding #1\n",
    "\n",
    "Accessing the MNIST dataset through libraries like Tensorflow or sklearn gave me SSL issues. I looked on internet forums for help on this issue, but most suggestions were to disable/modify certain settings to bypass the SSL authentication. I did not want to take security risks, so just decided to manually download the dataset and access it locally."
   ]
  },
  {
   "cell_type": "markdown",
   "metadata": {},
   "source": []
  }
 ],
 "metadata": {
  "kernelspec": {
   "display_name": "Python 3",
   "language": "python",
   "name": "python3"
  },
  "language_info": {
   "codemirror_mode": {
    "name": "ipython",
    "version": 3
   },
   "file_extension": ".py",
   "mimetype": "text/x-python",
   "name": "python",
   "nbconvert_exporter": "python",
   "pygments_lexer": "ipython3",
   "version": "3.11.5"
  }
 },
 "nbformat": 4,
 "nbformat_minor": 2
}
