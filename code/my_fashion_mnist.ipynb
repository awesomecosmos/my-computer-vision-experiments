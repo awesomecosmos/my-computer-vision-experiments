{
 "cells": [
  {
   "cell_type": "markdown",
   "metadata": {},
   "source": [
    "# My-Fashion-MNIST-Experiments\n",
    "\n",
    "In this notebook, I will design my own CNN architecture for classifying the Fashion-MNIST dataset, and will write functions such that I can experiment with different hyperparameters and loss functions/optimizers. LESHGOOOO"
   ]
  },
  {
   "cell_type": "markdown",
   "metadata": {},
   "source": [
    "Note that just for loading the data in, I will use pre-existing code from [this tutorial](https://pytorch.org/tutorials/beginner/introyt/trainingyt.html), which I also used in my `fashion-mnist.ipynb` notebook."
   ]
  },
  {
   "cell_type": "code",
   "execution_count": 1,
   "metadata": {},
   "outputs": [],
   "source": [
    "import torch\n",
    "import torchvision\n",
    "import torchvision.transforms as transforms\n",
    "import torch.nn as nn \n",
    "import torch.nn.functional as F \n",
    "\n",
    "from datetime import datetime\n",
    "\n",
    "import matplotlib.pyplot as plt\n",
    "import numpy as np"
   ]
  },
  {
   "cell_type": "code",
   "execution_count": 2,
   "metadata": {},
   "outputs": [],
   "source": [
    "transform = transforms.Compose(\n",
    "    [transforms.ToTensor(),\n",
    "    transforms.Normalize((0.5,), (0.5,))])"
   ]
  },
  {
   "cell_type": "code",
   "execution_count": 3,
   "metadata": {},
   "outputs": [],
   "source": [
    "train_data = torchvision.datasets.FashionMNIST('./data', train=True, transform=transform, download=True)\n",
    "test_data = torchvision.datasets.FashionMNIST('./data', train=False, transform=transform, download=True)"
   ]
  },
  {
   "cell_type": "code",
   "execution_count": 4,
   "metadata": {},
   "outputs": [
    {
     "name": "stdout",
     "output_type": "stream",
     "text": [
      "Using mps device\n"
     ]
    }
   ],
   "source": [
    "device = (\n",
    "    \"cuda\"\n",
    "    if torch.cuda.is_available()\n",
    "    else \"mps\"\n",
    "    if torch.backends.mps.is_available()\n",
    "    else \"cpu\"\n",
    ")\n",
    "print(f\"Using {device} device\")"
   ]
  },
  {
   "cell_type": "code",
   "execution_count": 5,
   "metadata": {},
   "outputs": [],
   "source": [
    "# experiment - play with the number of batches I want\n",
    "# default is 4\n",
    "batch_size = 5"
   ]
  },
  {
   "cell_type": "code",
   "execution_count": 6,
   "metadata": {},
   "outputs": [],
   "source": [
    "# Create data loaders for our datasets; shuffle for training, not for test\n",
    "training_loader = torch.utils.data.DataLoader(train_data, batch_size=batch_size, shuffle=True)\n",
    "test_loader = torch.utils.data.DataLoader(test_data, batch_size=batch_size, shuffle=False)"
   ]
  },
  {
   "cell_type": "code",
   "execution_count": 7,
   "metadata": {},
   "outputs": [
    {
     "name": "stdout",
     "output_type": "stream",
     "text": [
      "Training set has 60000 instances\n",
      "Testing set has 10000 instances\n"
     ]
    }
   ],
   "source": [
    "# Class labels\n",
    "classes = ('T-shirt/top', 'Trouser', 'Pullover', 'Dress', 'Coat',\n",
    "        'Sandal', 'Shirt', 'Sneaker', 'Bag', 'Ankle Boot')\n",
    "\n",
    "# Report split sizes\n",
    "print('Training set has {} instances'.format(len(train_data)))\n",
    "print('Testing set has {} instances'.format(len(test_data)))"
   ]
  },
  {
   "cell_type": "code",
   "execution_count": 8,
   "metadata": {},
   "outputs": [
    {
     "name": "stdout",
     "output_type": "stream",
     "text": [
      "Dress  Dress  Dress  T-shirt/top  Sneaker\n"
     ]
    },
    {
     "data": {
      "image/png": "[encoded data removed]",
      "text/plain": [
       "<Figure size 640x480 with 1 Axes>"
      ]
     },
     "metadata": {},
     "output_type": "display_data"
    }
   ],
   "source": [
    "# Helper function for inline image display\n",
    "def matplotlib_imshow(img, one_channel=False):\n",
    "    if one_channel:\n",
    "        img = img.mean(dim=0)\n",
    "    img = img / 2 + 0.5     # unnormalize\n",
    "    npimg = img.numpy()\n",
    "    if one_channel:\n",
    "        plt.imshow(npimg, cmap=\"Greys\")\n",
    "    else:\n",
    "        plt.imshow(np.transpose(npimg, (1, 2, 0)))\n",
    "\n",
    "dataiter = iter(training_loader)\n",
    "images, labels = next(dataiter)\n",
    "\n",
    "# Create a grid from the images and show them\n",
    "img_grid = torchvision.utils.make_grid(images)\n",
    "matplotlib_imshow(img_grid, one_channel=True)\n",
    "print('  '.join(classes[labels[j]] for j in range(batch_size)))"
   ]
  },
  {
   "cell_type": "code",
   "execution_count": 9,
   "metadata": {},
   "outputs": [
    {
     "data": {
      "text/plain": [
       "60000"
      ]
     },
     "execution_count": 9,
     "metadata": {},
     "output_type": "execute_result"
    }
   ],
   "source": [
    "len(train_data)"
   ]
  },
  {
   "cell_type": "code",
   "execution_count": 10,
   "metadata": {},
   "outputs": [
    {
     "data": {
      "text/plain": [
       "torch.Size([1, 28, 28])"
      ]
     },
     "execution_count": 10,
     "metadata": {},
     "output_type": "execute_result"
    }
   ],
   "source": [
    "train_sample, train_label = train_data[0]\n",
    "train_sample.shape"
   ]
  },
  {
   "cell_type": "markdown",
   "metadata": {},
   "source": [
    "## Defining Model Architecture\n",
    "\n",
    "Let's go for 3 convolutions, 4 fully-connected layers, options for activation (ReLU, sigmoid, tanh), and options for pooling (max, avg). This also gives me a great chance to 1. test out different model architectures, and 2. to test out the limits of my machine (MacBook Pro M3)."
   ]
  },
  {
   "cell_type": "code",
   "execution_count": 11,
   "metadata": {},
   "outputs": [],
   "source": [
    "def cnn_dims(input_matrix_size, kernel_size):\n",
    "    output_size_n = input_matrix_size - kernel_size + 1\n",
    "    print(f'Input matrix size: {input_matrix_size}x{input_matrix_size}')\n",
    "    print(f'Kernel size: {kernel_size}x{kernel_size}')\n",
    "    print(f'Therefore output convolved matrix size: {output_size_n}x{output_size_n}')\n",
    "    return output_size_n\n",
    "\n",
    "def pooling_dims(input_matrix_size, kernel_size, stride):\n",
    "    output_size_n = int(np.floor((input_matrix_size - kernel_size) / stride) + 1)\n",
    "    print(f'Input matrix size: {input_matrix_size}x{input_matrix_size}')\n",
    "    print(f'Kernel size: {kernel_size}x{kernel_size} + stride: {stride}')\n",
    "    print(f'Therefore output pooled matrix size: {output_size_n}x{output_size_n}')\n",
    "    return output_size_n"
   ]
  },
  {
   "cell_type": "code",
   "execution_count": 12,
   "metadata": {},
   "outputs": [],
   "source": [
    "class MyFashionClassifier(nn.Module):\n",
    "\n",
    "    def __init__(self, my_params):\n",
    "        super(MyFashionClassifier, self).__init__()\n",
    "\n",
    "        self.conv1 = nn.Conv2d(\n",
    "            in_channels=1,\n",
    "            out_channels=my_params['conv1_out_channels'],\n",
    "            kernel_size=my_params['conv_kernel_size'],\n",
    "            stride=my_params['conv_stride']\n",
    "        )\n",
    "        self.conv2 = nn.Conv2d(\n",
    "            in_channels=my_params['conv1_out_channels'],\n",
    "            out_channels=my_params['conv2_out_channels'],\n",
    "            kernel_size=my_params['conv_kernel_size'],\n",
    "            stride=my_params['conv_stride']\n",
    "        )\n",
    "        self.conv3 = nn.Conv2d(\n",
    "            in_channels=my_params['conv2_out_channels'],\n",
    "            out_channels=my_params['conv3_out_channels'],\n",
    "            kernel_size=my_params['conv_kernel_size'],\n",
    "            stride=my_params['conv_stride']\n",
    "        )\n",
    "        \n",
    "        self.pool_type = my_params['pool_type']\n",
    "        if self.pool_type == 'max':\n",
    "            self.pool = nn.MaxPool2d(kernel_size=my_params['pool_kernel_size'], stride=my_params['pool_stride'])\n",
    "        elif self.pool_type == 'avg':\n",
    "            self.pool_type = nn.AvgPool2d(kernel_size=my_params['pool_kernel_size'], stride=my_params['pool_stride'])\n",
    "\n",
    "        self.activation_type = my_params['activation_type']\n",
    "\n",
    "        self.fc1 = nn.Linear(\n",
    "            in_features=my_params['fc1_in_features'],\n",
    "            out_features=my_params['fc1_out_features']\n",
    "        )\n",
    "        self.fc2 = nn.Linear(\n",
    "            in_features=my_params['fc1_out_features'],\n",
    "            out_features=my_params['fc2_out_features']\n",
    "        )\n",
    "        self.fc3 = nn.Linear(\n",
    "            in_features=my_params['fc2_out_features'],\n",
    "            out_features=my_params['fc3_out_features']\n",
    "        )\n",
    "        self.fc4 = nn.Linear(\n",
    "            in_features=my_params['fc3_out_features'],\n",
    "            out_features=10\n",
    "        )\n",
    "\n",
    "    def forward(self, x):\n",
    "        # if self.pool_type == 'max':\n",
    "        x = self.pool(F.relu(self.conv1(x)))\n",
    "        x = self.pool(F.relu(self.conv2(x)))\n",
    "        x = self.pool(F.relu(self.conv3(x)))\n",
    "\n",
    "        x = x.view(-1, 128 * 2 * 2)\n",
    "\n",
    "        x = F.relu(self.fc1(x))\n",
    "        x = F.relu(self.fc2(x))\n",
    "        x = F.relu(self.fc3(x))\n",
    "        x = self.fc4(x)\n",
    "        return x"
   ]
  },
  {
   "cell_type": "markdown",
   "metadata": {},
   "source": [
    "### Instantiating Parameter Dictionary\n",
    "\n",
    "First we start by getting an idea of how our dimensions look like between layers. We will then use this to fill our parameters dict."
   ]
  },
  {
   "cell_type": "code",
   "execution_count": 13,
   "metadata": {},
   "outputs": [
    {
     "name": "stdout",
     "output_type": "stream",
     "text": [
      "First convolutional block\n",
      "Input matrix size: 28x28\n",
      "Kernel size: 2x2\n",
      "Therefore output convolved matrix size: 27x27\n",
      "\n",
      "Input matrix size: 27x27\n",
      "Kernel size: 2x2 + stride: 2\n",
      "Therefore output pooled matrix size: 13x13\n",
      "------\n",
      "Second convolutional block\n",
      "Input matrix size: 13x13\n",
      "Kernel size: 2x2\n",
      "Therefore output convolved matrix size: 12x12\n",
      "\n",
      "Input matrix size: 12x12\n",
      "Kernel size: 2x2 + stride: 2\n",
      "Therefore output pooled matrix size: 6x6\n",
      "------\n",
      "Third convolutional block\n",
      "Input matrix size: 6x6\n",
      "Kernel size: 2x2\n",
      "Therefore output convolved matrix size: 5x5\n",
      "\n",
      "Input matrix size: 5x5\n",
      "Kernel size: 2x2 + stride: 2\n",
      "Therefore output pooled matrix size: 2x2\n"
     ]
    }
   ],
   "source": [
    "conv_kernel_size = 2\n",
    "pool_kernel_size = 2\n",
    "pool_stride = 2\n",
    "\n",
    "print(\"First convolutional block\")\n",
    "conv1_output = cnn_dims(28, conv_kernel_size)\n",
    "print(\"\")\n",
    "pool1_output = pooling_dims(conv1_output, pool_kernel_size, pool_stride)\n",
    "print(\"------\")\n",
    "print(\"Second convolutional block\")\n",
    "conv2_output = cnn_dims(pool1_output, conv_kernel_size)\n",
    "print(\"\")\n",
    "pool2_output = pooling_dims(conv2_output, pool_kernel_size, pool_stride)\n",
    "print(\"------\")\n",
    "print(\"Third convolutional block\")\n",
    "conv3_output = cnn_dims(pool2_output, conv_kernel_size)\n",
    "print(\"\")\n",
    "pool3_output = pooling_dims(conv3_output, pool_kernel_size, pool_stride)"
   ]
  },
  {
   "cell_type": "code",
   "execution_count": 14,
   "metadata": {},
   "outputs": [],
   "source": [
    "my_params = {\n",
    "    # number of output channels for each convolution\n",
    "    # good rule of thumb is to double every time\n",
    "    'conv1_out_channels':32,\n",
    "    'conv2_out_channels':64,\n",
    "    'conv3_out_channels':128,\n",
    "    # number of fully-connected layers - max 4\n",
    "    'fc1_in_features':128 * 2 * 2, # x * y * y, where x=conv3_out_channels and y=dim(conv3_out_channels)\n",
    "    'fc1_out_features':256, # perhaps we can halve every time now?\n",
    "    'fc2_out_features':128,\n",
    "    'fc3_out_features':64,\n",
    "    # kernel size - same for all convolutions and for all poolings\n",
    "    'conv_kernel_size':2,\n",
    "    'pool_kernel_size':2,\n",
    "    # stride - same for all convolutions and for all poolings\n",
    "    'conv_stride':1,\n",
    "    'pool_stride':2,\n",
    "    # desired pooling type - either of {'max', 'avg'}\n",
    "    'pool_type': 'max',\n",
    "    # desired activation - either of {'relu', 'sigmoid', 'tanh'}\n",
    "    'activation_type': 'relu',\n",
    "    # optimizer - either of {'sgd', 'adam'}\n",
    "    'optimizer':'sgd'\n",
    "}\n",
    "\n",
    "# instantiating the model\n",
    "fashion_classifier_model = MyFashionClassifier(my_params)"
   ]
  },
  {
   "cell_type": "code",
   "execution_count": 15,
   "metadata": {},
   "outputs": [
    {
     "data": {
      "text/plain": [
       "MyFashionClassifier(\n",
       "  (conv1): Conv2d(1, 32, kernel_size=(2, 2), stride=(1, 1))\n",
       "  (conv2): Conv2d(32, 64, kernel_size=(2, 2), stride=(1, 1))\n",
       "  (conv3): Conv2d(64, 128, kernel_size=(2, 2), stride=(1, 1))\n",
       "  (pool): MaxPool2d(kernel_size=2, stride=2, padding=0, dilation=1, ceil_mode=False)\n",
       "  (fc1): Linear(in_features=512, out_features=256, bias=True)\n",
       "  (fc2): Linear(in_features=256, out_features=128, bias=True)\n",
       "  (fc3): Linear(in_features=128, out_features=64, bias=True)\n",
       "  (fc4): Linear(in_features=64, out_features=10, bias=True)\n",
       ")"
      ]
     },
     "execution_count": 15,
     "metadata": {},
     "output_type": "execute_result"
    }
   ],
   "source": [
    "fashion_classifier_model"
   ]
  },
  {
   "cell_type": "markdown",
   "metadata": {},
   "source": [
    "### Defining Loss Function + Optimizer"
   ]
  },
  {
   "cell_type": "code",
   "execution_count": 16,
   "metadata": {},
   "outputs": [],
   "source": [
    "loss_fn = torch.nn.CrossEntropyLoss() "
   ]
  },
  {
   "cell_type": "code",
   "execution_count": 17,
   "metadata": {},
   "outputs": [],
   "source": [
    "def choose_optimizer(model, optimizer_choice, learning_rate, momentum=None):\n",
    "    # function to choose optimizer\n",
    "    if optimizer_choice == 'sgd': \n",
    "        optimizer = torch.optim.SGD(\n",
    "            params=model.parameters(), \n",
    "            lr=learning_rate, \n",
    "            momentum=momentum\n",
    "            ) \n",
    "    elif optimizer_choice=='adam': \n",
    "        optimizer = torch.optim.Adam(model.parameters(), learning_rate)\n",
    "    return optimizer\n",
    "\n",
    "my_optimizer = choose_optimizer(\n",
    "    model=fashion_classifier_model, \n",
    "    optimizer_choice=my_params['optimizer'], \n",
    "    learning_rate=0.001,\n",
    "    momentum=0.9\n",
    "    )"
   ]
  },
  {
   "cell_type": "code",
   "execution_count": 72,
   "metadata": {},
   "outputs": [],
   "source": [
    "def plot_loss_accuracy_curves(losses, accuracies, epoch_num):\n",
    "    # plotting loss vs epoch\n",
    "    plt.figure(figsize=(12, 4))\n",
    "    plt.subplot(1, 2, 1)\n",
    "    plt.plot(losses)\n",
    "    plt.title(f'Epoch {epoch_num}: Loss Curve')\n",
    "    plt.xlabel('Batch')\n",
    "    plt.ylabel('Loss')\n",
    "    # plotting accuracy vs epoch\n",
    "    plt.subplot(1, 2, 2)\n",
    "    plt.plot(accuracies)\n",
    "    plt.title(f'Epoch {epoch_num}: Accuracy Curve (avg={np.round(np.mean(accuracies),2)}%)')\n",
    "    plt.xlabel('Batch')\n",
    "    plt.ylabel('Accuracy')\n",
    "    plt.show()"
   ]
  },
  {
   "cell_type": "markdown",
   "metadata": {},
   "source": [
    "### Model Training"
   ]
  },
  {
   "cell_type": "code",
   "execution_count": 62,
   "metadata": {},
   "outputs": [
    {
     "name": "stdout",
     "output_type": "stream",
     "text": [
      "Batch 1:\n",
      "<class 'torch.Tensor'>\n",
      "<class 'torch.Tensor'>\n",
      "tensor([9, 2, 5, 9, 1])\n",
      "4\n"
     ]
    }
   ],
   "source": [
    "# # Inspect one batch of data\n",
    "# for i, (inputs, labels) in enumerate(training_loader):\n",
    "#     print(f\"Batch {i+1}:\")\n",
    "#     # print(\"Inputs:\")\n",
    "#     # print(type(inputs))\n",
    "#     # print(\"Labels:\")\n",
    "#     # print(labels)\n",
    "#     # print(type(labels))\n",
    "#     outputs = fashion_classifier_model(inputs)\n",
    "#     print(type(outputs))\n",
    "#     # print(outputs)\n",
    "#     loss = loss_fn(outputs, labels)\n",
    "#     print(type(loss))\n",
    "#     loss.backward()\n",
    "#     my_optimizer.step()\n",
    "#     # print(outputs)\n",
    "#     predicted = torch.argmax(outputs, 1) #argmax\n",
    "#     print(predicted)\n",
    "#     print((predicted == labels).sum().item())\n",
    "\n",
    "#     break  # Break after inspecting the first batch"
   ]
  },
  {
   "cell_type": "code",
   "execution_count": 73,
   "metadata": {},
   "outputs": [],
   "source": [
    "def train_model(\n",
    "        model, params, optimizer, loss_fn, training_loader, num_epochs=10\n",
    "        ):\n",
    "    \n",
    "    losses = []\n",
    "    accuracies = []\n",
    "\n",
    "    # iterating over number of epochs\n",
    "    for epoch in range(num_epochs):\n",
    "        current_loss = 0\n",
    "        total_correct = 0\n",
    "        total_samples = 0\n",
    "\n",
    "        model.train()\n",
    "\n",
    "        for i, (inputs, labels) in enumerate(training_loader):\n",
    "            optimizer.zero_grad()\n",
    "            outputs = model(inputs)\n",
    "            loss = loss_fn(outputs, labels)\n",
    "            loss.backward()\n",
    "            optimizer.step()\n",
    "\n",
    "            current_loss = loss.item()\n",
    "            \n",
    "\n",
    "            predicted = torch.argmax(outputs, 1)\n",
    "            total_correct += (predicted == labels).sum().item() # look into settubg them as long integers\n",
    "            total_samples += labels.size(0)\n",
    "\n",
    "            if i % 100 == 0:\n",
    "\n",
    "                last_loss = current_loss / 100\n",
    "                losses.append(last_loss)\n",
    "\n",
    "                accuracy = 100 * total_correct / total_samples\n",
    "                accuracies.append(accuracy)\n",
    "\n",
    "                print(f'Epoch [{epoch+1}/{num_epochs}], Batch {i+1}, Loss: {loss.item():.4f}, Accuracy: {accuracy:.4f}')\n",
    "\n",
    "                current_loss = 0\n",
    "                total_correct = 0\n",
    "                total_samples = 0\n",
    "                \n",
    "        plot_loss_accuracy_curves(losses, accuracies, 1)\n",
    "\n",
    "    return losses, accuracies"
   ]
  },
  {
   "cell_type": "code",
   "execution_count": 74,
   "metadata": {},
   "outputs": [
    {
     "name": "stdout",
     "output_type": "stream",
     "text": [
      "Epoch [1/1], Batch 1, Loss: 1.5489, Accuracy: 60.0000\n",
      "Epoch [1/1], Batch 101, Loss: 0.0167, Accuracy: 93.2000\n",
      "Epoch [1/1], Batch 201, Loss: 0.0962, Accuracy: 93.2000\n",
      "Epoch [1/1], Batch 301, Loss: 1.5378, Accuracy: 90.6000\n",
      "Epoch [1/1], Batch 401, Loss: 0.1870, Accuracy: 90.4000\n",
      "Epoch [1/1], Batch 501, Loss: 0.0559, Accuracy: 91.8000\n",
      "Epoch [1/1], Batch 601, Loss: 0.0360, Accuracy: 92.4000\n",
      "Epoch [1/1], Batch 701, Loss: 0.0480, Accuracy: 91.8000\n",
      "Epoch [1/1], Batch 801, Loss: 0.0253, Accuracy: 90.2000\n",
      "Epoch [1/1], Batch 901, Loss: 0.0754, Accuracy: 92.8000\n",
      "Epoch [1/1], Batch 1001, Loss: 0.5239, Accuracy: 91.0000\n",
      "Epoch [1/1], Batch 1101, Loss: 0.1199, Accuracy: 89.6000\n",
      "Epoch [1/1], Batch 1201, Loss: 0.4211, Accuracy: 90.8000\n",
      "Epoch [1/1], Batch 1301, Loss: 0.0323, Accuracy: 91.4000\n",
      "Epoch [1/1], Batch 1401, Loss: 0.2708, Accuracy: 91.2000\n",
      "Epoch [1/1], Batch 1501, Loss: 0.5253, Accuracy: 91.2000\n",
      "Epoch [1/1], Batch 1601, Loss: 0.3808, Accuracy: 90.6000\n",
      "Epoch [1/1], Batch 1701, Loss: 0.0066, Accuracy: 91.8000\n",
      "Epoch [1/1], Batch 1801, Loss: 0.3424, Accuracy: 91.4000\n",
      "Epoch [1/1], Batch 1901, Loss: 0.0159, Accuracy: 91.8000\n",
      "Epoch [1/1], Batch 2001, Loss: 0.0312, Accuracy: 90.8000\n",
      "Epoch [1/1], Batch 2101, Loss: 0.2961, Accuracy: 91.2000\n",
      "Epoch [1/1], Batch 2201, Loss: 0.0946, Accuracy: 91.2000\n",
      "Epoch [1/1], Batch 2301, Loss: 0.1438, Accuracy: 92.2000\n",
      "Epoch [1/1], Batch 2401, Loss: 0.0152, Accuracy: 93.4000\n",
      "Epoch [1/1], Batch 2501, Loss: 0.2545, Accuracy: 92.4000\n",
      "Epoch [1/1], Batch 2601, Loss: 0.6695, Accuracy: 91.4000\n",
      "Epoch [1/1], Batch 2701, Loss: 0.0071, Accuracy: 90.4000\n",
      "Epoch [1/1], Batch 2801, Loss: 0.2858, Accuracy: 92.2000\n",
      "Epoch [1/1], Batch 2901, Loss: 0.0061, Accuracy: 90.8000\n",
      "Epoch [1/1], Batch 3001, Loss: 0.0137, Accuracy: 93.0000\n",
      "Epoch [1/1], Batch 3101, Loss: 0.0194, Accuracy: 89.6000\n",
      "Epoch [1/1], Batch 3201, Loss: 0.0020, Accuracy: 90.4000\n",
      "Epoch [1/1], Batch 3301, Loss: 0.3488, Accuracy: 94.2000\n",
      "Epoch [1/1], Batch 3401, Loss: 0.3885, Accuracy: 87.4000\n",
      "Epoch [1/1], Batch 3501, Loss: 0.0886, Accuracy: 90.8000\n",
      "Epoch [1/1], Batch 3601, Loss: 0.1193, Accuracy: 90.0000\n",
      "Epoch [1/1], Batch 3701, Loss: 0.0242, Accuracy: 92.4000\n",
      "Epoch [1/1], Batch 3801, Loss: 0.3829, Accuracy: 90.4000\n",
      "Epoch [1/1], Batch 3901, Loss: 0.1655, Accuracy: 90.2000\n",
      "Epoch [1/1], Batch 4001, Loss: 0.5975, Accuracy: 92.6000\n",
      "Epoch [1/1], Batch 4101, Loss: 0.0031, Accuracy: 90.2000\n",
      "Epoch [1/1], Batch 4201, Loss: 0.1197, Accuracy: 91.4000\n",
      "Epoch [1/1], Batch 4301, Loss: 0.0157, Accuracy: 92.0000\n",
      "Epoch [1/1], Batch 4401, Loss: 0.0226, Accuracy: 92.6000\n",
      "Epoch [1/1], Batch 4501, Loss: 0.0147, Accuracy: 92.8000\n",
      "Epoch [1/1], Batch 4601, Loss: 0.0336, Accuracy: 92.2000\n",
      "Epoch [1/1], Batch 4701, Loss: 0.4089, Accuracy: 89.0000\n",
      "Epoch [1/1], Batch 4801, Loss: 0.2394, Accuracy: 92.4000\n",
      "Epoch [1/1], Batch 4901, Loss: 0.0658, Accuracy: 89.0000\n",
      "Epoch [1/1], Batch 5001, Loss: 1.6317, Accuracy: 92.2000\n",
      "Epoch [1/1], Batch 5101, Loss: 0.2938, Accuracy: 88.0000\n",
      "Epoch [1/1], Batch 5201, Loss: 0.0006, Accuracy: 91.4000\n",
      "Epoch [1/1], Batch 5301, Loss: 0.0075, Accuracy: 91.8000\n",
      "Epoch [1/1], Batch 5401, Loss: 0.1078, Accuracy: 92.2000\n",
      "Epoch [1/1], Batch 5501, Loss: 0.0638, Accuracy: 92.4000\n",
      "Epoch [1/1], Batch 5601, Loss: 0.0318, Accuracy: 90.8000\n",
      "Epoch [1/1], Batch 5701, Loss: 0.0854, Accuracy: 91.4000\n",
      "Epoch [1/1], Batch 5801, Loss: 0.8836, Accuracy: 91.6000\n",
      "Epoch [1/1], Batch 5901, Loss: 0.1152, Accuracy: 90.2000\n",
      "Epoch [1/1], Batch 6001, Loss: 0.0081, Accuracy: 90.6000\n",
      "Epoch [1/1], Batch 6101, Loss: 0.4103, Accuracy: 89.8000\n",
      "Epoch [1/1], Batch 6201, Loss: 0.1458, Accuracy: 92.4000\n",
      "Epoch [1/1], Batch 6301, Loss: 0.1389, Accuracy: 94.2000\n",
      "Epoch [1/1], Batch 6401, Loss: 0.1437, Accuracy: 90.8000\n",
      "Epoch [1/1], Batch 6501, Loss: 0.9046, Accuracy: 91.4000\n",
      "Epoch [1/1], Batch 6601, Loss: 0.3615, Accuracy: 89.2000\n",
      "Epoch [1/1], Batch 6701, Loss: 0.2728, Accuracy: 89.6000\n",
      "Epoch [1/1], Batch 6801, Loss: 0.1174, Accuracy: 91.2000\n",
      "Epoch [1/1], Batch 6901, Loss: 1.3803, Accuracy: 91.8000\n",
      "Epoch [1/1], Batch 7001, Loss: 0.0838, Accuracy: 89.4000\n",
      "Epoch [1/1], Batch 7101, Loss: 0.1435, Accuracy: 91.2000\n",
      "Epoch [1/1], Batch 7201, Loss: 0.0496, Accuracy: 91.8000\n",
      "Epoch [1/1], Batch 7301, Loss: 0.2623, Accuracy: 90.6000\n",
      "Epoch [1/1], Batch 7401, Loss: 0.1603, Accuracy: 92.0000\n"
     ]
    }
   ],
   "source": [
    "losses, accuracies = train_model(\n",
    "    model=fashion_classifier_model, \n",
    "    params=my_params, \n",
    "    optimizer=my_optimizer, \n",
    "    loss_fn=loss_fn, \n",
    "    training_loader=training_loader,\n",
    "    num_epochs=1\n",
    "    )"
   ]
  },
  {
   "cell_type": "code",
   "execution_count": 67,
   "metadata": {},
   "outputs": [
    {
     "data": {
      "text/plain": [
       "np.float64(88.18333333333334)"
      ]
     },
     "execution_count": 67,
     "metadata": {},
     "output_type": "execute_result"
    }
   ],
   "source": [
    "np.mean(accuracies)"
   ]
  },
  {
   "cell_type": "code",
   "execution_count": 22,
   "metadata": {},
   "outputs": [],
   "source": [
    "# def train_epoch(model, params, optimizer, loss_fn, train_loader, epoch_index, loss_list, accuracy_list):\n",
    "#     model.train()\n",
    "#     running_loss = 0\n",
    "#     total_correct = 0\n",
    "#     total_samples = 0\n",
    "\n",
    "#     for i, (inputs, labels) in enumerate(train_loader):\n",
    "#         optimizer.zero_grad()\n",
    "#         outputs = fashion_classifier_model(inputs)\n",
    "#         loss = loss_fn(outputs, labels)\n",
    "#         loss.backward()\n",
    "#         optimizer.step()\n",
    "\n",
    "#         running_loss += loss.item()\n",
    "\n",
    "#         _, predicted = torch.max(outputs, 1)\n",
    "#         total_correct += (predicted == labels).sum().item()\n",
    "#         total_samples += labels.size(0)\n",
    "\n",
    "#         if i % 1000 == 999:\n",
    "#             last_loss = running_loss / 1000\n",
    "#             loss_list.append(last_loss)\n",
    "\n",
    "#             accuracy = 100 * total_correct / total_samples\n",
    "#             accuracy_list.append(accuracy)\n",
    "\n",
    "#             print(running_loss, len(train_loader), total_correct, total_samples)\n",
    "\n",
    "#             print(f\"Epoch {epoch_index+1}, Batch {i+1}, Loss: {last_loss:.4f}, Accuracy: {accuracy:.2f}%\")\n",
    "#             running_loss = 0\n",
    "#             total_correct = 0\n",
    "#             total_samples = 0\n",
    "            \n",
    "#     return running_loss / len(train_loader), 100.0 * total_correct / total_samples\n"
   ]
  },
  {
   "cell_type": "code",
   "execution_count": 23,
   "metadata": {},
   "outputs": [
    {
     "name": "stdout",
     "output_type": "stream",
     "text": [
      "423.5049269270967 12000 4211 5000\n",
      "Epoch 1, Batch 1000, Loss: 0.4235, Accuracy: 84.22%\n",
      "404.5518905025092 12000 4235 5000\n",
      "Epoch 1, Batch 2000, Loss: 0.4046, Accuracy: 84.70%\n",
      "410.7615852156596 12000 4252 5000\n",
      "Epoch 1, Batch 3000, Loss: 0.4108, Accuracy: 85.04%\n",
      "417.22262729442446 12000 4215 5000\n",
      "Epoch 1, Batch 4000, Loss: 0.4172, Accuracy: 84.30%\n",
      "402.0472679180093 12000 4261 5000\n",
      "Epoch 1, Batch 5000, Loss: 0.4020, Accuracy: 85.22%\n",
      "396.30894401686965 12000 4275 5000\n",
      "Epoch 1, Batch 6000, Loss: 0.3963, Accuracy: 85.50%\n",
      "389.9798663900583 12000 4278 5000\n",
      "Epoch 1, Batch 7000, Loss: 0.3900, Accuracy: 85.56%\n",
      "385.46019611140946 12000 4266 5000\n",
      "Epoch 1, Batch 8000, Loss: 0.3855, Accuracy: 85.32%\n",
      "383.9879690274829 12000 4290 5000\n",
      "Epoch 1, Batch 9000, Loss: 0.3840, Accuracy: 85.80%\n",
      "362.3597458624863 12000 4299 5000\n",
      "Epoch 1, Batch 10000, Loss: 0.3624, Accuracy: 85.98%\n",
      "365.5963642257266 12000 4315 5000\n",
      "Epoch 1, Batch 11000, Loss: 0.3656, Accuracy: 86.30%\n",
      "377.491388071212 12000 4313 5000\n",
      "Epoch 1, Batch 12000, Loss: 0.3775, Accuracy: 86.26%\n"
     ]
    },
    {
     "ename": "ZeroDivisionError",
     "evalue": "float division by zero",
     "output_type": "error",
     "traceback": [
      "\u001b[0;31m---------------------------------------------------------------------------\u001b[0m",
      "\u001b[0;31mZeroDivisionError\u001b[0m                         Traceback (most recent call last)",
      "Cell \u001b[0;32mIn[23], line 1\u001b[0m\n\u001b[0;32m----> 1\u001b[0m \u001b[43mtrain_epoch\u001b[49m\u001b[43m(\u001b[49m\n\u001b[1;32m      2\u001b[0m \u001b[43m    \u001b[49m\u001b[43mmodel\u001b[49m\u001b[38;5;241;43m=\u001b[39;49m\u001b[43mfashion_classifier_model\u001b[49m\u001b[43m,\u001b[49m\u001b[43m \u001b[49m\n\u001b[1;32m      3\u001b[0m \u001b[43m    \u001b[49m\u001b[43mparams\u001b[49m\u001b[38;5;241;43m=\u001b[39;49m\u001b[43mmy_params\u001b[49m\u001b[43m,\u001b[49m\u001b[43m \u001b[49m\n\u001b[1;32m      4\u001b[0m \u001b[43m    \u001b[49m\u001b[43moptimizer\u001b[49m\u001b[38;5;241;43m=\u001b[39;49m\u001b[43mmy_optimizer\u001b[49m\u001b[43m,\u001b[49m\u001b[43m \u001b[49m\n\u001b[1;32m      5\u001b[0m \u001b[43m    \u001b[49m\u001b[43mloss_fn\u001b[49m\u001b[38;5;241;43m=\u001b[39;49m\u001b[43mloss_fn\u001b[49m\u001b[43m,\u001b[49m\u001b[43m \u001b[49m\n\u001b[1;32m      6\u001b[0m \u001b[43m    \u001b[49m\u001b[43mtrain_loader\u001b[49m\u001b[38;5;241;43m=\u001b[39;49m\u001b[43mtraining_loader\u001b[49m\u001b[43m,\u001b[49m\u001b[43m \u001b[49m\n\u001b[1;32m      7\u001b[0m \u001b[43m    \u001b[49m\u001b[43mepoch_index\u001b[49m\u001b[38;5;241;43m=\u001b[39;49m\u001b[38;5;241;43m0\u001b[39;49m\u001b[43m,\u001b[49m\u001b[43m \u001b[49m\n\u001b[1;32m      8\u001b[0m \u001b[43m    \u001b[49m\u001b[43mloss_list\u001b[49m\u001b[38;5;241;43m=\u001b[39;49m\u001b[43m[\u001b[49m\u001b[43m]\u001b[49m\u001b[43m,\u001b[49m\u001b[43m \u001b[49m\n\u001b[1;32m      9\u001b[0m \u001b[43m    \u001b[49m\u001b[43maccuracy_list\u001b[49m\u001b[38;5;241;43m=\u001b[39;49m\u001b[43m[\u001b[49m\u001b[43m]\u001b[49m\n\u001b[1;32m     10\u001b[0m \u001b[43m    \u001b[49m\u001b[43m)\u001b[49m\n",
      "Cell \u001b[0;32mIn[22], line 36\u001b[0m, in \u001b[0;36mtrain_epoch\u001b[0;34m(model, params, optimizer, loss_fn, train_loader, epoch_index, loss_list, accuracy_list)\u001b[0m\n\u001b[1;32m     31\u001b[0m         total_correct \u001b[38;5;241m=\u001b[39m \u001b[38;5;241m0\u001b[39m\n\u001b[1;32m     32\u001b[0m         total_samples \u001b[38;5;241m=\u001b[39m \u001b[38;5;241m0\u001b[39m\n\u001b[0;32m---> 36\u001b[0m \u001b[38;5;28;01mreturn\u001b[39;00m running_loss \u001b[38;5;241m/\u001b[39m \u001b[38;5;28mlen\u001b[39m(train_loader), \u001b[38;5;241;43m100.0\u001b[39;49m\u001b[43m \u001b[49m\u001b[38;5;241;43m*\u001b[39;49m\u001b[43m \u001b[49m\u001b[43mtotal_correct\u001b[49m\u001b[43m \u001b[49m\u001b[38;5;241;43m/\u001b[39;49m\u001b[43m \u001b[49m\u001b[43mtotal_samples\u001b[49m\n",
      "\u001b[0;31mZeroDivisionError\u001b[0m: float division by zero"
     ]
    }
   ],
   "source": [
    "# train_epoch(\n",
    "#     model=fashion_classifier_model, \n",
    "#     params=my_params, \n",
    "#     optimizer=my_optimizer, \n",
    "#     loss_fn=loss_fn, \n",
    "#     train_loader=training_loader, \n",
    "#     epoch_index=0, \n",
    "#     loss_list=[], \n",
    "#     accuracy_list=[]\n",
    "#     )"
   ]
  }
 ],
 "metadata": {
  "kernelspec": {
   "display_name": "env_mnist_experiments",
   "language": "python",
   "name": "python3"
  },
  "language_info": {
   "codemirror_mode": {
    "name": "ipython",
    "version": 3
   },
   "file_extension": ".py",
   "mimetype": "text/x-python",
   "name": "python",
   "nbconvert_exporter": "python",
   "pygments_lexer": "ipython3",
   "version": "3.12.4"
  }
 },
 "nbformat": 4,
 "nbformat_minor": 2
}
